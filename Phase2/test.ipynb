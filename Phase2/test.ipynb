{
 "cells": [
  {
   "cell_type": "code",
   "execution_count": 1,
   "metadata": {},
   "outputs": [],
   "source": [
    "import pandas as pd\n",
    "import re\n",
    "import textwrap"
   ]
  },
  {
   "cell_type": "code",
   "execution_count": 2,
   "metadata": {},
   "outputs": [],
   "source": [
    "def readbarcode(num : str) -> str:\n",
    "    if num == \"6979700123456\":return \"EOF\"  #End of file\n",
    "    num = num[:-1]\n",
    "    while num[-1] != \"0\": num = num[:-1]\n",
    "    num = num[:-1]      #detect trash digits\n",
    "    chr_list = []\n",
    "    alpha = textwrap.wrap(num[:-4],2)       #split digit for character\n",
    "    for c in alpha: chr_list.append(str(chr(int(c))))   \n",
    "    return str(\"\".join(chr_list)+num[-4:])\n",
    "\n",
    "def createbarcode(sku : str) -> str:\n",
    "    num_list = []\n",
    "    try:\n",
    "        for c in re.findall('[a-zA-Z]+',sku)[0]: num_list.append(str(ord(c)))\n",
    "    except:pass\n",
    "    str_to_num = \"\".join(num_list) + \"\".join(re.findall('[0-9]+',sku))\n",
    "    i=0\n",
    "    while len(str_to_num) <13:\n",
    "        str_to_num = f\"{str_to_num}{i}\"\n",
    "        i+=1\n",
    "    return str_to_num"
   ]
  },
  {
   "cell_type": "code",
   "execution_count": 3,
   "metadata": {},
   "outputs": [],
   "source": [
    "csv = pd.read_csv('../orders-2022-06-20-00-16-07.csv')"
   ]
  },
  {
   "cell_type": "code",
   "execution_count": 4,
   "metadata": {},
   "outputs": [],
   "source": [
    "ID = 8421\n",
    "order_list = csv.loc[csv['No.'] == ID][['Item Code', 'Item Name', 'Item Qty']].reset_index(drop=True)\n",
    "# order_list.columns = order_list.columns.str.replace('Item Code', 'Item_Code')"
   ]
  },
  {
   "cell_type": "code",
   "execution_count": 5,
   "metadata": {},
   "outputs": [],
   "source": [
    "code_list = []\n",
    "for index, row in order_list.iterrows():\n",
    "    code = createbarcode(row['Item Code'])\n",
    "    code_list.append(code)\n",
    "order_list = order_list.assign(barcode=code_list)"
   ]
  },
  {
   "cell_type": "code",
   "execution_count": 6,
   "metadata": {},
   "outputs": [
    {
     "data": {
      "text/html": [
       "<div>\n",
       "<style scoped>\n",
       "    .dataframe tbody tr th:only-of-type {\n",
       "        vertical-align: middle;\n",
       "    }\n",
       "\n",
       "    .dataframe tbody tr th {\n",
       "        vertical-align: top;\n",
       "    }\n",
       "\n",
       "    .dataframe thead th {\n",
       "        text-align: right;\n",
       "    }\n",
       "</style>\n",
       "<table border=\"1\" class=\"dataframe\">\n",
       "  <thead>\n",
       "    <tr style=\"text-align: right;\">\n",
       "      <th></th>\n",
       "      <th>Item Code</th>\n",
       "      <th>Item Name</th>\n",
       "      <th>Item Qty</th>\n",
       "      <th>barcode</th>\n",
       "    </tr>\n",
       "  </thead>\n",
       "  <tbody>\n",
       "    <tr>\n",
       "      <th>0</th>\n",
       "      <td>FT0012</td>\n",
       "      <td>ทุเรียนแกะหมอนทอง (ลังใหญ่) (12000 กรัม)</td>\n",
       "      <td>4</td>\n",
       "      <td>7084001201234</td>\n",
       "    </tr>\n",
       "    <tr>\n",
       "      <th>1</th>\n",
       "      <td>FT0480</td>\n",
       "      <td>ทุเรียนหมอนทองลูก (10000 กรัม)</td>\n",
       "      <td>4</td>\n",
       "      <td>7084048001234</td>\n",
       "    </tr>\n",
       "    <tr>\n",
       "      <th>2</th>\n",
       "      <td>DTF0320</td>\n",
       "      <td>ชิฟฟ่อนหนองพงนก-กล่องใหญ่ (330 กรัม)</td>\n",
       "      <td>5</td>\n",
       "      <td>6884700320012</td>\n",
       "    </tr>\n",
       "    <tr>\n",
       "      <th>3</th>\n",
       "      <td>MSF0750</td>\n",
       "      <td>ลูกชิ้นเอ็นเนื้อ แชมป์ (1000 กรัม)</td>\n",
       "      <td>5</td>\n",
       "      <td>7783700750012</td>\n",
       "    </tr>\n",
       "    <tr>\n",
       "      <th>4</th>\n",
       "      <td>DTF1420</td>\n",
       "      <td>ขนมปังเนยโสด (155 กรัม)</td>\n",
       "      <td>20</td>\n",
       "      <td>6884701420012</td>\n",
       "    </tr>\n",
       "    <tr>\n",
       "      <th>5</th>\n",
       "      <td>DTF1420</td>\n",
       "      <td>ขนมปังเนยโสด (155 กรัม)</td>\n",
       "      <td>12</td>\n",
       "      <td>6884701420012</td>\n",
       "    </tr>\n",
       "    <tr>\n",
       "      <th>6</th>\n",
       "      <td>DTF1420</td>\n",
       "      <td>ขนมปังเนยโสด (155 กรัม)</td>\n",
       "      <td>3</td>\n",
       "      <td>6884701420012</td>\n",
       "    </tr>\n",
       "    <tr>\n",
       "      <th>7</th>\n",
       "      <td>DTF1420</td>\n",
       "      <td>ขนมปังเนยโสด (155 กรัม)</td>\n",
       "      <td>3</td>\n",
       "      <td>6884701420012</td>\n",
       "    </tr>\n",
       "    <tr>\n",
       "      <th>8</th>\n",
       "      <td>VB1341</td>\n",
       "      <td>พริกลาว (100 กรัม)</td>\n",
       "      <td>5</td>\n",
       "      <td>8666134101234</td>\n",
       "    </tr>\n",
       "    <tr>\n",
       "      <th>9</th>\n",
       "      <td>IF0580</td>\n",
       "      <td>เลือดไก่ (350 กรัม)</td>\n",
       "      <td>5</td>\n",
       "      <td>7370058001234</td>\n",
       "    </tr>\n",
       "    <tr>\n",
       "      <th>10</th>\n",
       "      <td>VB0311</td>\n",
       "      <td>พริกขี้หนูสวน (100 กรัม)</td>\n",
       "      <td>5</td>\n",
       "      <td>8666031101234</td>\n",
       "    </tr>\n",
       "    <tr>\n",
       "      <th>11</th>\n",
       "      <td>VB0211</td>\n",
       "      <td>พริกจินดาแดง (100 กรัม)</td>\n",
       "      <td>300</td>\n",
       "      <td>8666021101234</td>\n",
       "    </tr>\n",
       "  </tbody>\n",
       "</table>\n",
       "</div>"
      ],
      "text/plain": [
       "   Item Code                                 Item Name  Item Qty  \\\n",
       "0     FT0012  ทุเรียนแกะหมอนทอง (ลังใหญ่) (12000 กรัม)         4   \n",
       "1     FT0480            ทุเรียนหมอนทองลูก (10000 กรัม)         4   \n",
       "2    DTF0320      ชิฟฟ่อนหนองพงนก-กล่องใหญ่ (330 กรัม)         5   \n",
       "3    MSF0750        ลูกชิ้นเอ็นเนื้อ แชมป์ (1000 กรัม)         5   \n",
       "4    DTF1420                   ขนมปังเนยโสด (155 กรัม)        20   \n",
       "5    DTF1420                   ขนมปังเนยโสด (155 กรัม)        12   \n",
       "6    DTF1420                   ขนมปังเนยโสด (155 กรัม)         3   \n",
       "7    DTF1420                   ขนมปังเนยโสด (155 กรัม)         3   \n",
       "8     VB1341                        พริกลาว (100 กรัม)         5   \n",
       "9     IF0580                       เลือดไก่ (350 กรัม)         5   \n",
       "10    VB0311                  พริกขี้หนูสวน (100 กรัม)         5   \n",
       "11    VB0211                   พริกจินดาแดง (100 กรัม)       300   \n",
       "\n",
       "          barcode  \n",
       "0   7084001201234  \n",
       "1   7084048001234  \n",
       "2   6884700320012  \n",
       "3   7783700750012  \n",
       "4   6884701420012  \n",
       "5   6884701420012  \n",
       "6   6884701420012  \n",
       "7   6884701420012  \n",
       "8   8666134101234  \n",
       "9   7370058001234  \n",
       "10  8666031101234  \n",
       "11  8666021101234  "
      ]
     },
     "execution_count": 6,
     "metadata": {},
     "output_type": "execute_result"
    }
   ],
   "source": [
    "order_list"
   ]
  },
  {
   "cell_type": "code",
   "execution_count": 7,
   "metadata": {},
   "outputs": [
    {
     "data": {
      "text/plain": [
       "'8666038101234'"
      ]
     },
     "execution_count": 7,
     "metadata": {},
     "output_type": "execute_result"
    }
   ],
   "source": [
    "createbarcode('VB0381')"
   ]
  }
 ],
 "metadata": {
  "kernelspec": {
   "display_name": "Python 3.10.5 64-bit",
   "language": "python",
   "name": "python3"
  },
  "language_info": {
   "codemirror_mode": {
    "name": "ipython",
    "version": 3
   },
   "file_extension": ".py",
   "mimetype": "text/x-python",
   "name": "python",
   "nbconvert_exporter": "python",
   "pygments_lexer": "ipython3",
   "version": "3.10.5"
  },
  "orig_nbformat": 4,
  "vscode": {
   "interpreter": {
    "hash": "04eb5fd3382f5ae6ecd8e5ea5943a43c2b77f84302c9ef3aee2bb26e0a62d38e"
   }
  }
 },
 "nbformat": 4,
 "nbformat_minor": 2
}
