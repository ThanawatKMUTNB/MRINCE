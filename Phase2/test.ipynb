{
 "cells": [
  {
   "cell_type": "code",
   "execution_count": null,
   "metadata": {},
   "outputs": [],
   "source": [
    "import pandas as pd\n",
    "import re\n",
    "import textwrap"
   ]
  },
  {
   "cell_type": "code",
   "execution_count": null,
   "metadata": {},
   "outputs": [],
   "source": [
    "def readbarcode(num : str) -> str:\n",
    "    if num == \"6979700123456\":return \"EOF\"  #End of file\n",
    "    num = num[:-1]\n",
    "    while num[-1] != \"0\": num = num[:-1]\n",
    "    num = num[:-1]      #detect trash digits\n",
    "    chr_list = []\n",
    "    alpha = textwrap.wrap(num[:-4],2)       #split digit for character\n",
    "    for c in alpha: chr_list.append(str(chr(int(c))))   \n",
    "    return str(\"\".join(chr_list)+num[-4:])\n",
    "\n",
    "def createbarcode(sku : str) -> str:\n",
    "    num_list = []\n",
    "    try:\n",
    "        for c in re.findall('[a-zA-Z]+',sku)[0]: num_list.append(str(ord(c)))\n",
    "    except:pass\n",
    "    str_to_num = \"\".join(num_list) + \"\".join(re.findall('[0-9]+',sku))\n",
    "    i=0\n",
    "    while len(str_to_num) <13:\n",
    "        str_to_num = f\"{str_to_num}{i}\"\n",
    "        i+=1\n",
    "    return str_to_num"
   ]
  },
  {
   "cell_type": "code",
   "execution_count": null,
   "metadata": {},
   "outputs": [],
   "source": [
    "csv = pd.read_csv('../orders-2022-06-20-00-16-07.csv')"
   ]
  },
  {
   "cell_type": "code",
   "execution_count": null,
   "metadata": {},
   "outputs": [],
   "source": [
    "ID = 8421\n",
    "order_list = csv.loc[csv['No.'] == ID][['Item Code', 'Item Name', 'Item Qty']].reset_index(drop=True)\n",
    "# order_list.columns = order_list.columns.str.replace('Item Code', 'Item_Code')"
   ]
  },
  {
   "cell_type": "code",
   "execution_count": null,
   "metadata": {},
   "outputs": [],
   "source": [
    "code_list = []\n",
    "for index, row in order_list.iterrows():\n",
    "    code = createbarcode(row['Item Code'])\n",
    "    code_list.append(code)\n",
    "order_list = order_list.assign(barcode=code_list)"
   ]
  },
  {
   "cell_type": "code",
   "execution_count": null,
   "metadata": {},
   "outputs": [],
   "source": [
    "order_list"
   ]
  },
  {
   "cell_type": "code",
   "execution_count": null,
   "metadata": {},
   "outputs": [],
   "source": [
    "createbarcode('VB0381')"
   ]
  }
 ],
 "metadata": {
  "kernelspec": {
   "display_name": "Python 3.10.5 64-bit",
   "language": "python",
   "name": "python3"
  },
  "language_info": {
   "codemirror_mode": {
    "name": "ipython",
    "version": 3
   },
   "file_extension": ".py",
   "mimetype": "text/x-python",
   "name": "python",
   "nbconvert_exporter": "python",
   "pygments_lexer": "ipython3",
   "version": "3.10.5"
  },
  "orig_nbformat": 4,
  "vscode": {
   "interpreter": {
    "hash": "4f577c4e9a5bc4b987cd2143e2b21f16cbdbe8a53ae4ddb90e56530681eda4af"
   }
  }
 },
 "nbformat": 4,
 "nbformat_minor": 2
}
