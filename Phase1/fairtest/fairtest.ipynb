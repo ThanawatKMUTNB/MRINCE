{
 "cells": [
  {
   "cell_type": "code",
   "execution_count": 2,
   "metadata": {},
   "outputs": [
    {
     "data": {
      "text/html": [
       "<div>\n",
       "<style scoped>\n",
       "    .dataframe tbody tr th:only-of-type {\n",
       "        vertical-align: middle;\n",
       "    }\n",
       "\n",
       "    .dataframe tbody tr th {\n",
       "        vertical-align: top;\n",
       "    }\n",
       "\n",
       "    .dataframe thead th {\n",
       "        text-align: right;\n",
       "    }\n",
       "</style>\n",
       "<table border=\"1\" class=\"dataframe\">\n",
       "  <thead>\n",
       "    <tr style=\"text-align: right;\">\n",
       "      <th></th>\n",
       "      <th>Product ID</th>\n",
       "      <th>Product Name</th>\n",
       "      <th>Line Item Quantity</th>\n",
       "      <th>Product SKU</th>\n",
       "      <th>Product Categories</th>\n",
       "    </tr>\n",
       "  </thead>\n",
       "  <tbody>\n",
       "    <tr>\n",
       "      <th>0</th>\n",
       "      <td>7408</td>\n",
       "      <td>มะละกอดิบ (1000 กรัม)</td>\n",
       "      <td>2</td>\n",
       "      <td>VB0190</td>\n",
       "      <td>ผัก</td>\n",
       "    </tr>\n",
       "    <tr>\n",
       "      <th>1</th>\n",
       "      <td>6953</td>\n",
       "      <td>มะกอกลาว (100 กรัม)</td>\n",
       "      <td>5</td>\n",
       "      <td>VB1301</td>\n",
       "      <td>ผัก</td>\n",
       "    </tr>\n",
       "    <tr>\n",
       "      <th>2</th>\n",
       "      <td>6927</td>\n",
       "      <td>ผักบุ้งนา (100 กรัม)</td>\n",
       "      <td>4</td>\n",
       "      <td>VB1021</td>\n",
       "      <td>ผัก</td>\n",
       "    </tr>\n",
       "    <tr>\n",
       "      <th>3</th>\n",
       "      <td>6841</td>\n",
       "      <td>ผักบุ้งจีน (100 กรัม)</td>\n",
       "      <td>4</td>\n",
       "      <td>VB0051</td>\n",
       "      <td>ผัก</td>\n",
       "    </tr>\n",
       "    <tr>\n",
       "      <th>4</th>\n",
       "      <td>6874</td>\n",
       "      <td>ชะอม(กำใหญ่) (100 กรัม)</td>\n",
       "      <td>9</td>\n",
       "      <td>VB0411</td>\n",
       "      <td>ผัก</td>\n",
       "    </tr>\n",
       "    <tr>\n",
       "      <th>...</th>\n",
       "      <td>...</td>\n",
       "      <td>...</td>\n",
       "      <td>...</td>\n",
       "      <td>...</td>\n",
       "      <td>...</td>\n",
       "    </tr>\n",
       "    <tr>\n",
       "      <th>275</th>\n",
       "      <td>8043</td>\n",
       "      <td>ขนมปังเนยโสด (155 กรัม)</td>\n",
       "      <td>3</td>\n",
       "      <td>DTF1420</td>\n",
       "      <td>ขนม</td>\n",
       "    </tr>\n",
       "    <tr>\n",
       "      <th>276</th>\n",
       "      <td>6956</td>\n",
       "      <td>พริกลาว (100 กรัม)</td>\n",
       "      <td>5</td>\n",
       "      <td>VB1341</td>\n",
       "      <td>ผัก</td>\n",
       "    </tr>\n",
       "    <tr>\n",
       "      <th>277</th>\n",
       "      <td>7794</td>\n",
       "      <td>เลือดไก่ (350 กรัม)</td>\n",
       "      <td>5</td>\n",
       "      <td>IF0580</td>\n",
       "      <td>วัตถุดิบ</td>\n",
       "    </tr>\n",
       "    <tr>\n",
       "      <th>278</th>\n",
       "      <td>6864</td>\n",
       "      <td>พริกขี้หนูสวน (100 กรัม)</td>\n",
       "      <td>5</td>\n",
       "      <td>VB0311</td>\n",
       "      <td>ผัก</td>\n",
       "    </tr>\n",
       "    <tr>\n",
       "      <th>279</th>\n",
       "      <td>6855</td>\n",
       "      <td>พริกจินดาแดง (100 กรัม)</td>\n",
       "      <td>300</td>\n",
       "      <td>VB0211</td>\n",
       "      <td>ผัก</td>\n",
       "    </tr>\n",
       "  </tbody>\n",
       "</table>\n",
       "<p>280 rows × 5 columns</p>\n",
       "</div>"
      ],
      "text/plain": [
       "     Product ID              Product Name  Line Item Quantity Product SKU  \\\n",
       "0          7408     มะละกอดิบ (1000 กรัม)                   2      VB0190   \n",
       "1          6953       มะกอกลาว (100 กรัม)                   5      VB1301   \n",
       "2          6927      ผักบุ้งนา (100 กรัม)                   4      VB1021   \n",
       "3          6841     ผักบุ้งจีน (100 กรัม)                   4      VB0051   \n",
       "4          6874   ชะอม(กำใหญ่) (100 กรัม)                   9      VB0411   \n",
       "..          ...                       ...                 ...         ...   \n",
       "275        8043   ขนมปังเนยโสด (155 กรัม)                   3     DTF1420   \n",
       "276        6956        พริกลาว (100 กรัม)                   5      VB1341   \n",
       "277        7794       เลือดไก่ (350 กรัม)                   5      IF0580   \n",
       "278        6864  พริกขี้หนูสวน (100 กรัม)                   5      VB0311   \n",
       "279        6855   พริกจินดาแดง (100 กรัม)                 300      VB0211   \n",
       "\n",
       "    Product Categories  \n",
       "0                  ผัก  \n",
       "1                  ผัก  \n",
       "2                  ผัก  \n",
       "3                  ผัก  \n",
       "4                  ผัก  \n",
       "..                 ...  \n",
       "275                ขนม  \n",
       "276                ผัก  \n",
       "277           วัตถุดิบ  \n",
       "278                ผัก  \n",
       "279                ผัก  \n",
       "\n",
       "[280 rows x 5 columns]"
      ]
     },
     "execution_count": 2,
     "metadata": {},
     "output_type": "execute_result"
    }
   ],
   "source": [
    "import pandas as pd\n",
    "from PIL import Image, ImageDraw, ImageFont\n",
    "from barcode import Code128, Code39, EAN13\n",
    "from barcode.writer import ImageWriter\n",
    "import textwrap \n",
    "import re\n",
    "\n",
    "csv = \"../Order_Items_Export_-_2022-06-20.csv\"\n",
    "df = pd.read_csv(csv)\n",
    "font = \"../src/Kanit-Light.ttf\"\n",
    "df"
   ]
  },
  {
   "cell_type": "code",
   "execution_count": 2,
   "metadata": {},
   "outputs": [],
   "source": [
    "def draw_multiple_line_text(image, text, font, text_color, text_start_height):\n",
    "    '''\n",
    "    From unutbu on [python PIL draw multiline text on image](https://stackoverflow.com/a/7698300/395857)\n",
    "    '''\n",
    "    draw = ImageDraw.Draw(image)\n",
    "    image_width, image_height = image.size\n",
    "    y_text = text_start_height\n",
    "    lines = textwrap.wrap(text, width=40)\n",
    "    for line in lines:\n",
    "        line_width, line_height = font.getsize(line)\n",
    "        draw.text(((image_width - line_width) / 2, y_text), \n",
    "                  line, font=font, fill=text_color)\n",
    "        y_text += line_height"
   ]
  },
  {
   "cell_type": "code",
   "execution_count": 8,
   "metadata": {},
   "outputs": [],
   "source": [
    "#1 W8\n",
    "#Barcode_Copy\n",
    "\n",
    "def createbarcode(sku):\n",
    "    num_list = []\n",
    "    for c in re.findall('[a-zA-Z]+',sku)[0]: num_list.append(str(ord(c)))\n",
    "    str_to_num = \"\".join(num_list) + \"\".join(re.findall('[0-9]+',sku))\n",
    "    i = 0\n",
    "    while len(str_to_num) <13:\n",
    "        str_to_num = f\"{str_to_num}{i}\"\n",
    "        i+=1\n",
    "    code = EAN13(str_to_num,writer=ImageWriter())\n",
    "    code.save('Barcode_Copy')\n",
    "    img = Image.open('Barcode_Copy.png')\n",
    "    return img\n",
    "    \n",
    "c = 0\n",
    "width = 5*151     #4cm\n",
    "height = 5*114    #3cm\n",
    "fonts = ImageFont.truetype(font, size=50)\n",
    "fonts_weight = ImageFont.truetype(font, size=20)\n",
    "fonts_sku = ImageFont.truetype(font, size=30)\n",
    "image_list = []\n",
    "for index, row in df.iterrows():\n",
    "    product = row['Product Name']\n",
    "    product_name = product.split()[0]\n",
    "    product_weight = f\"{re.findall('[0-9]+',product)[0]} กรัม\"\n",
    "    product_sku = row['Product SKU']\n",
    "    img = Image.new('RGB', (width, height), color='white')\n",
    "    ImageDraw.Draw(img)       \n",
    "    text_color = (0,0,0)   #black\n",
    "    draw_multiple_line_text(img, product_name, fonts, text_color, height*(2/10))\n",
    "    draw_multiple_line_text(img, product_weight, fonts_weight, text_color, height*(3/9))\n",
    "    draw_multiple_line_text(img, product_sku, fonts_sku, text_color, height*(4/10))\n",
    "    code = createbarcode(product_sku)\n",
    "    code = code.resize((int(width/2),int(height/4)))\n",
    "    img.paste(code,(int(width*(1/4)),int(height*(1/2))))\n",
    "    subloop = int(row['Line Item Quantity'])\n",
    "    for copy in range(subloop): image_list.append(img.convert('RGB'))\n",
    "\n",
    "image_list[0].save('Quantity_pages.pdf', save_all=True, append_images=image_list[1:])"
   ]
  },
  {
   "cell_type": "code",
   "execution_count": 5,
   "metadata": {},
   "outputs": [],
   "source": [
    "#2 check\n",
    "#Product_type\n",
    "logo = Image.open(\"../src/logo-web.png\")\n",
    "width = 1240\n",
    "height = 1754\n",
    "head_font = ImageFont.truetype(font, size=160)\n",
    "content_1_font = ImageFont.truetype(font, size=100)\n",
    "content_2_font = ImageFont.truetype(font, size=60)\n",
    "image_list = []\n",
    "for index, row in df.iterrows():\n",
    "    img = Image.new('RGB', (width, height), color='white')\n",
    "    ImageDraw.Draw(img)\n",
    "    text_color = (0,0,0)\n",
    "    draw_multiple_line_text(img, row['Product SKU'], head_font, text_color, 400)\n",
    "    draw_multiple_line_text(img, f\"{re.findall('[0-9]+',row['Product Name'])[0]}  กรัม/แพ็ค\", content_1_font, text_color, 700)\n",
    "    draw_multiple_line_text(img, f\"{row['Product Name']}     {row['Product Categories']}\", content_2_font, text_color, 1000)\n",
    "    draw_multiple_line_text(img, str(row['Line Item Quantity']), head_font, text_color, 1200)\n",
    "    draw_multiple_line_text(img, \"แพ็ค\", content_1_font, text_color, 1400)\n",
    "    img.paste(logo,(int(width/2.4),200))\n",
    "    image_list.append(img.convert('RGB'))\n",
    "\n",
    "image_list[0].save('Product_pages.pdf', save_all=True, append_images=image_list[1:])"
   ]
  },
  {
   "cell_type": "code",
   "execution_count": 6,
   "metadata": {},
   "outputs": [],
   "source": [
    "#3\n",
    "filter_values = ['ผัก','ผลไม้']\n",
    "newdf = df.loc[~df['Product Categories'].isin(filter_values)]\n",
    "width = 400\n",
    "height = 250\n",
    "fonts = ImageFont.truetype(font, size=20)\n",
    "image_list = []\n",
    "for index, row in newdf.iterrows():\n",
    "    product = row['Product Name']\n",
    "    product_name = product.split()[0]\n",
    "    product_weight = f\"{re.findall('[0-9]+',product)[0]} กรัม\"\n",
    "    product_sku = row['Product SKU']\n",
    "    img = Image.new('RGB', (width, height), color='white')\n",
    "    ImageDraw.Draw(img)       \n",
    "    text_color = (0,0,0)   #black\n",
    "    draw_multiple_line_text(img, product_weight, fonts, text_color, height*(2/10))\n",
    "    draw_multiple_line_text(img, product_name, fonts, text_color, height*(3/10))\n",
    "    draw_multiple_line_text(img, product_sku, fonts, text_color, height*(4/10))\n",
    "    code = createbarcode(product_sku)\n",
    "    code = code.resize((int(width/3),int(height/4)))\n",
    "    img.paste(code,(int(width*(1/3)),int(height*(1/2))))\n",
    "    subloop = int(row['Line Item Quantity'])\n",
    "    for copy in range(subloop): image_list.append(img.convert('RGB'))\n",
    "\n",
    "image_list[0].save('FilVeg-Fruit_pages.pdf', save_all=True, append_images=image_list[1:])"
   ]
  },
  {
   "cell_type": "code",
   "execution_count": 7,
   "metadata": {},
   "outputs": [
    {
     "name": "stdout",
     "output_type": "stream",
     "text": [
      "{'big': 10, 'small': 1, 'single': 6}\n"
     ]
    }
   ],
   "source": [
    "#4 Check\n",
    "#Durian_crate (5) #PDF\n",
    "#sum แล้วหาร ใหญ่ 24  ,เล็ก 12 ,เดี่ยว\n",
    "Durian_ID = [7576,7562,7564,8140,8216]    #กล่อง ,ลังเล็ก, ลังใหญ่, ก้านยาวกล่องเดี่ยว, ภูเขาไฟกล่องเดียว\n",
    "boxshare = [24,12]          #ลังใหญ่ ,ลังเล็ก\n",
    "durianDF = df.loc[df['Product ID'].isin(Durian_ID)]\n",
    "sumbox = 0\n",
    "width = 1240\n",
    "height = 1754\n",
    "\n",
    "fonts = ImageFont.truetype(font, size=90)\n",
    "for index, row in durianDF.iterrows():\n",
    "    if row['Product ID'] == Durian_ID[2]: sumbox += 24\n",
    "    elif row['Product ID'] == Durian_ID[1]: sumbox += 12\n",
    "    else: sumbox += 1\n",
    "box = { 'big':int(sumbox/boxshare[0]),\n",
    "        'small':int((sumbox%boxshare[0])/boxshare[1]),\n",
    "        'single':int((sumbox%boxshare[0])%boxshare[1])}\n",
    "img = Image.new('RGB', (width, height), color='white')\n",
    "imgDraw = ImageDraw.Draw(img)\n",
    "text_color = (0,0,0)\n",
    "text_start_height = height/5\n",
    "text = [f\"กล่องเดี่ยวทั้งหมด  {sumbox}  กล่อง\",\n",
    "        f\"ลังใหญ่  {box['big']}  ลัง\",\n",
    "        f\"ลังเล็ก  {box['small']}  ลัง\",\n",
    "        f\"กล่องเดี่ยว  {box['single']}  ลัง\"]\n",
    "for t in text:\n",
    "    draw_multiple_line_text(img, t, fonts, text_color, text_start_height)\n",
    "    text_start_height += int(height/6)\n",
    "img.save('Durian.pdf', save_all=True)\n",
    "print(box)"
   ]
  },
  {
   "cell_type": "code",
   "execution_count": 8,
   "metadata": {},
   "outputs": [],
   "source": [
    "#5\n",
    "#cover\n",
    "width = 378\n",
    "height = 284\n",
    "image_list = []\n",
    "fonts = ImageFont.truetype(\"../src/Kanit-Medium.ttf\", size=90)\n",
    "logo = Image.open(\"../src/LogoBW.png\")\n",
    "Max = int(input(\"Enter max number: \"))\n",
    "\n",
    "for i in range(Max):\n",
    "    num = str(i+1)\n",
    "    while len(num)<3:\n",
    "        num = f\"0{num}\"\n",
    "    img = Image.new('RGB', (width, height), color='white')\n",
    "    imgDraw = ImageDraw.Draw(img)\n",
    "    textWidth, textHeight = imgDraw.textsize(num, font=fonts)\n",
    "    xText = (width - textWidth) / 2\n",
    "    yText = (height - textHeight) / 2\n",
    "    imgDraw.text((xText, yText), num, font=fonts, fill=(0, 0, 0))\n",
    "    img.paste(logo,(int(width/2.7),50))\n",
    "    image_list.append(img.convert('RGB'))\n",
    "image_list[0].save('Amount_pages.pdf', save_all=True, append_images=image_list[1:])"
   ]
  },
  {
   "cell_type": "code",
   "execution_count": 61,
   "metadata": {},
   "outputs": [],
   "source": [
    "def createbarcode(sku):\n",
    "    num_list = []\n",
    "    for c in re.findall('[a-zA-Z]+',sku)[0]: num_list.append(str(ord(c)))\n",
    "    str_to_num = \"\".join(num_list) + \"\".join(re.findall('[0-9]+',sku))\n",
    "    i = 0\n",
    "    while len(str_to_num) <13:\n",
    "        str_to_num = f\"{str_to_num}{i}\"\n",
    "        i+=1\n",
    "    code = EAN13(str_to_num,writer=ImageWriter())\n",
    "    code.save('Barcode_Copy')\n",
    "    img = Image.open('Barcode_Copy.png')\n",
    "    return [img,str_to_num]\n",
    "\n",
    "def readbarcode(num):\n",
    "    num = num[:-1]\n",
    "    while num[-1] != \"0\": num = num[:-1]\n",
    "    num = num[:-1]      #detect trash digits\n",
    "    chr_list = []\n",
    "    alpha = textwrap.wrap(num[:-4],2)\n",
    "    for c in alpha: chr_list.append(str(chr(int(c))))\n",
    "    return str(\"\".join(chr_list)+num[-4:])\n",
    "a = \"VB0411\"\n",
    "b = \"DTF1420\"\n",
    "c = \"IF0580\""
   ]
  },
  {
   "cell_type": "code",
   "execution_count": 66,
   "metadata": {},
   "outputs": [
    {
     "name": "stdout",
     "output_type": "stream",
     "text": [
      "7370058001234\n"
     ]
    },
    {
     "data": {
      "text/plain": [
       "'IF0580'"
      ]
     },
     "execution_count": 66,
     "metadata": {},
     "output_type": "execute_result"
    }
   ],
   "source": [
    "x = createbarcode(c)[1]\n",
    "print(x)\n",
    "readbarcode(x)"
   ]
  },
  {
   "cell_type": "code",
   "execution_count": 44,
   "metadata": {},
   "outputs": [
    {
     "data": {
      "text/plain": [
       "'6884701420012'"
      ]
     },
     "execution_count": 44,
     "metadata": {},
     "output_type": "execute_result"
    }
   ],
   "source": [
    "createbarcode(b)[1]"
   ]
  },
  {
   "cell_type": "code",
   "execution_count": 20,
   "metadata": {},
   "outputs": [
    {
     "data": {
      "image/png": "[encoded data removed]",
      "text/plain": [
       "<PIL.PngImagePlugin.PngImageFile image mode=RGB size=523x280 at 0x1E5A10C96A0>"
      ]
     },
     "execution_count": 20,
     "metadata": {},
     "output_type": "execute_result"
    }
   ],
   "source": [
    "createbarcode(a)[0]"
   ]
  },
  {
   "cell_type": "code",
   "execution_count": 10,
   "metadata": {},
   "outputs": [
    {
     "data": {
      "text/plain": [
       "'new_code1.png'"
      ]
     },
     "execution_count": 10,
     "metadata": {},
     "output_type": "execute_result"
    }
   ],
   "source": [
    "\n",
    "# import EAN13 from barcode module\n",
    "from barcode import EAN13\n",
    "  \n",
    "# import ImageWriter to generate an image file\n",
    "from barcode.writer import ImageWriter\n",
    "  \n",
    "# Make sure to pass the number as string\n",
    "number = '8666041100000'\n",
    "  \n",
    "# Now, let's create an object of EAN13 class and \n",
    "# pass the number with the ImageWriter() as the \n",
    "# writer\n",
    "my_code = EAN13(number, writer=ImageWriter())\n",
    "  \n",
    "# Our barcode is ready. Let's save it.\n",
    "my_code.save(\"new_code1\")"
   ]
  },
  {
   "cell_type": "code",
   "execution_count": 3,
   "metadata": {},
   "outputs": [
    {
     "data": {
      "text/plain": [
       "'8666041100000'"
      ]
     },
     "execution_count": 3,
     "metadata": {},
     "output_type": "execute_result"
    }
   ],
   "source": [
    "sku = \"VB0411\"\n",
    "num_list = []\n",
    "for c in re.findall('[a-zA-Z]+',sku)[0]: num_list.append(str(ord(c)))\n",
    "str_to_num = \"\".join(num_list) + \"\".join(re.findall('[0-9]+',sku))\n",
    "while len(str_to_num) <13:\n",
    "    str_to_num = f\"{str_to_num}0\"\n",
    "str_to_num"
   ]
  }
 ],
 "metadata": {
  "kernelspec": {
   "display_name": "Python 3.9.7 64-bit",
   "language": "python",
   "name": "python3"
  },
  "language_info": {
   "codemirror_mode": {
    "name": "ipython",
    "version": 3
   },
   "file_extension": ".py",
   "mimetype": "text/x-python",
   "name": "python",
   "nbconvert_exporter": "python",
   "pygments_lexer": "ipython3",
   "version": "3.9.7"
  },
  "orig_nbformat": 4,
  "vscode": {
   "interpreter": {
    "hash": "cf92aa13fedf815d5c8dd192b8d835913fde3e8bc926b2a0ad6cc74ef2ba3ca2"
   }
  }
 },
 "nbformat": 4,
 "nbformat_minor": 2
}
