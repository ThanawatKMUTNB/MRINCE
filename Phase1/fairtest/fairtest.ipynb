{
 "cells": [
  {
   "cell_type": "code",
   "execution_count": 104,
   "metadata": {},
   "outputs": [],
   "source": [
    "import pandas as pd\n",
    "from PIL import Image, ImageDraw, ImageFont\n",
    "from barcode import Code128, Code39, EAN13\n",
    "from barcode.writer import ImageWriter\n",
    "import textwrap \n",
    "import re\n",
    "\n",
    "csv = \"../Order_Items_Export_-_2022-06-20.csv\"\n",
    "df = pd.read_csv(csv)\n",
    "font = \"../src/Kanit-Light.ttf\"\n",
    "def draw_multiple_line_text(image, text, font, text_color, text_start_height):\n",
    "    draw = ImageDraw.Draw(image)\n",
    "    image_width, image_height = image.size\n",
    "    y_text = text_start_height\n",
    "    lines = textwrap.wrap(text, width=40)\n",
    "    for line in lines:\n",
    "        line_width, line_height = font.getsize(line)\n",
    "        draw.text(((image_width - line_width) / 2, y_text), \n",
    "                  line, font=font, fill=text_color)\n",
    "        y_text += line_height\n",
    "\n",
    "def draw_multiple_line_text_barcode(image, text, font, text_color, text_start_height):\n",
    "    draw = ImageDraw.Draw(image)\n",
    "    image_width, image_height = image.size\n",
    "    y_text = text_start_height\n",
    "    lines = textwrap.wrap(text, width=40)\n",
    "    for line in lines:\n",
    "        line_width, line_height = font.getsize(line)\n",
    "        draw.text(((image_width - line_width) / 1.3, y_text), \n",
    "                  line, font=font, fill=text_color)\n",
    "        y_text += line_height"
   ]
  },
  {
   "cell_type": "code",
   "execution_count": 107,
   "metadata": {},
   "outputs": [],
   "source": [
    "#1 W8\n",
    "#Barcode_Copy\n",
    "\n",
    "def createbarcode(sku):\n",
    "    num_list = []\n",
    "    for c in re.findall('[a-zA-Z]+',sku)[0]: num_list.append(str(ord(c)))\n",
    "    str_to_num = \"\".join(num_list) + \"\".join(re.findall('[0-9]+',sku))\n",
    "    i = 0\n",
    "    while len(str_to_num) <13:\n",
    "        str_to_num = f\"{str_to_num}{i}\"\n",
    "        i+=1\n",
    "    code = EAN13(str_to_num,writer=ImageWriter())\n",
    "    code.save('Barcode_Copy')\n",
    "    img = Image.open('Barcode_Copy.png')\n",
    "    return img\n",
    "    \n",
    "c = 0\n",
    "width = 400     #4cm\n",
    "height = 300    #3cm\n",
    "fonts = ImageFont.truetype(font, size=20)\n",
    "fonts_weight = ImageFont.truetype(font, size=15)\n",
    "fonts_sku = ImageFont.truetype(font, size=20)\n",
    "image_list = []\n",
    "for index, row in df.iterrows():\n",
    "    product = row['Product Name']\n",
    "    product_name = product.split('(')[0]\n",
    "    product_weight = f\"{re.findall('[0-9]+',product)[0]} กรัม\"\n",
    "    product_sku = row['Product SKU']\n",
    "    img = Image.new('RGB', (width, height), color='white')\n",
    "    ImageDraw.Draw(img)       \n",
    "    text_color = (0,0,0)   #black\n",
    "    draw_multiple_line_text_barcode(img, product_name, fonts, text_color, height*(2/10))\n",
    "    draw_multiple_line_text_barcode(img, product_weight, fonts_weight, text_color, height*(3/10))\n",
    "    draw_multiple_line_text_barcode(img, product_sku, fonts_sku, text_color, height*(4/10))\n",
    "    code = createbarcode(product_sku)\n",
    "    code = code.resize((int(width/2),int(height/4)))\n",
    "    img.paste(code,(int(width*(1/3)),int(height*(1/2))))\n",
    "    subloop = int(row['Line Item Quantity'])\n",
    "    for copy in range(subloop): image_list.append(img.convert('RGB'))\n",
    "\n",
    "image_list[0].save('Quantity_pages.pdf', save_all=True, append_images=image_list[1:])"
   ]
  },
  {
   "cell_type": "code",
   "execution_count": 5,
   "metadata": {},
   "outputs": [],
   "source": [
    "#2 check\n",
    "#Product_type\n",
    "logo = Image.open(\"../src/logo-web.png\")\n",
    "width = 1240\n",
    "height = 1754\n",
    "head_font = ImageFont.truetype(font, size=160)\n",
    "content_1_font = ImageFont.truetype(font, size=100)\n",
    "content_2_font = ImageFont.truetype(font, size=60)\n",
    "image_list = []\n",
    "for index, row in df.iterrows():\n",
    "    img = Image.new('RGB', (width, height), color='white')\n",
    "    ImageDraw.Draw(img)\n",
    "    text_color = (0,0,0)\n",
    "    draw_multiple_line_text(img, row['Product SKU'], head_font, text_color, 400)\n",
    "    draw_multiple_line_text(img, f\"{re.findall('[0-9]+',row['Product Name'])[0]}  กรัม/แพ็ค\", content_1_font, text_color, 700)\n",
    "    draw_multiple_line_text(img, f\"{row['Product Name']}     {row['Product Categories']}\", content_2_font, text_color, 1000)\n",
    "    draw_multiple_line_text(img, str(row['Line Item Quantity']), head_font, text_color, 1200)\n",
    "    draw_multiple_line_text(img, \"แพ็ค\", content_1_font, text_color, 1400)\n",
    "    img.paste(logo,(int(width/2.4),200))\n",
    "    image_list.append(img.convert('RGB'))\n",
    "\n",
    "image_list[0].save('Product_pages.pdf', save_all=True, append_images=image_list[1:])"
   ]
  },
  {
   "cell_type": "code",
   "execution_count": 99,
   "metadata": {},
   "outputs": [],
   "source": [
    "#3\n",
    "filter_values = ['ผัก','ผลไม้']\n",
    "newdf = df.loc[~df['Product Categories'].isin(filter_values)]\n",
    "width = 800\n",
    "height = 600\n",
    "fonts = ImageFont.truetype(font, size=20)\n",
    "image_list = []\n",
    "for index, row in newdf.iterrows():\n",
    "    product = row['Product Name']\n",
    "    product_name = product.split('(')[0]\n",
    "    product_weight = f\"{re.findall('[0-9]+',product)[0]} กรัม\"\n",
    "    product_sku = row['Product SKU']\n",
    "    textl1 = f\"{product_name}   Nutrition information\"\n",
    "    textl2 =f\"SKU : {product_sku}   Nutrtient Composition per 100 g Edible Potion\"\n",
    "    img = Image.new('RGB', (width, height), color='white')\n",
    "    ImageDraw.Draw(img)       \n",
    "    text_color = (0,0,0)   #black\n",
    "    draw_multiple_line_text(img, textl1, fonts, text_color, height*(1/9))\n",
    "    draw_multiple_line_text(img, textl2, fonts, text_color, height*(2/9))\n",
    "    draw_multiple_line_text(img, product_sku, fonts, text_color, height*(3/9))\n",
    "    draw_multiple_line_text(img, product_sku, fonts, text_color, height*(4/9))\n",
    "    draw_multiple_line_text(img, product_sku, fonts, text_color, height*(5/9))\n",
    "    draw_multiple_line_text(img, product_sku, fonts, text_color, height*(6/9))\n",
    "    draw_multiple_line_text(img, product_sku, fonts, text_color, height*(7/9))\n",
    "    draw_multiple_line_text(img, product_sku, fonts, text_color, height*(8/9))\n",
    "    # code = createbarcode(product_sku)\n",
    "    # code = code.resize((int(width/3),int(height/4)))\n",
    "    # img.paste(code,(int(width*(1/3)),int(height*(1/2))))\n",
    "    subloop = int(row['Line Item Quantity'])\n",
    "    for copy in range(subloop): image_list.append(img.convert('RGB'))\n",
    "\n",
    "image_list[0].save('FilVeg-Fruit_pages.pdf', save_all=True, append_images=image_list[1:])"
   ]
  },
  {
   "cell_type": "code",
   "execution_count": 7,
   "metadata": {},
   "outputs": [
    {
     "name": "stdout",
     "output_type": "stream",
     "text": [
      "{'big': 10, 'small': 1, 'single': 6}\n"
     ]
    }
   ],
   "source": [
    "#4 Check\n",
    "#Durian_crate (5) #PDF\n",
    "#sum แล้วหาร ใหญ่ 24  ,เล็ก 12 ,เดี่ยว\n",
    "Durian_ID = [7576,7562,7564,8140,8216]    #กล่อง ,ลังเล็ก, ลังใหญ่, ก้านยาวกล่องเดี่ยว, ภูเขาไฟกล่องเดียว\n",
    "boxshare = [24,12]          #ลังใหญ่ ,ลังเล็ก\n",
    "durianDF = df.loc[df['Product ID'].isin(Durian_ID)]\n",
    "sumbox = 0\n",
    "width = 1240\n",
    "height = 1754\n",
    "\n",
    "fonts = ImageFont.truetype(font, size=90)\n",
    "for index, row in durianDF.iterrows():\n",
    "    if row['Product ID'] == Durian_ID[2]: sumbox += 24\n",
    "    elif row['Product ID'] == Durian_ID[1]: sumbox += 12\n",
    "    else: sumbox += 1\n",
    "box = { 'big':int(sumbox/boxshare[0]),\n",
    "        'small':int((sumbox%boxshare[0])/boxshare[1]),\n",
    "        'single':int((sumbox%boxshare[0])%boxshare[1])}\n",
    "img = Image.new('RGB', (width, height), color='white')\n",
    "imgDraw = ImageDraw.Draw(img)\n",
    "text_color = (0,0,0)\n",
    "text_start_height = height/5\n",
    "text = [f\"กล่องเดี่ยวทั้งหมด  {sumbox}  กล่อง\",\n",
    "        f\"ลังใหญ่  {box['big']}  ลัง\",\n",
    "        f\"ลังเล็ก  {box['small']}  ลัง\",\n",
    "        f\"กล่องเดี่ยว  {box['single']}  ลัง\"]\n",
    "for t in text:\n",
    "    draw_multiple_line_text(img, t, fonts, text_color, text_start_height)\n",
    "    text_start_height += int(height/6)\n",
    "img.save('Durian.pdf', save_all=True)\n",
    "print(box)"
   ]
  },
  {
   "cell_type": "code",
   "execution_count": 8,
   "metadata": {},
   "outputs": [],
   "source": [
    "#5\n",
    "#cover\n",
    "width = 4*100\n",
    "height = 4*75\n",
    "image_list = []\n",
    "fonts = ImageFont.truetype(\"../src/Kanit-Medium.ttf\", size=90)\n",
    "logo = Image.open(\"../src/LogoBW.png\")\n",
    "Max = int(input(\"Enter max number: \"))\n",
    "\n",
    "for i in range(Max):\n",
    "    num = str(i+1)\n",
    "    while len(num)<3:\n",
    "        num = f\"0{num}\"\n",
    "    img = Image.new('RGB', (width, height), color='white')\n",
    "    imgDraw = ImageDraw.Draw(img)\n",
    "    textWidth, textHeight = imgDraw.textsize(num, font=fonts)\n",
    "    xText = (width - textWidth) / 2\n",
    "    yText = (height - textHeight) / 2\n",
    "    imgDraw.text((xText, yText), num, font=fonts, fill=(0, 0, 0))\n",
    "    img.paste(logo,(int(width/2.7),50))\n",
    "    image_list.append(img.convert('RGB'))\n",
    "image_list[0].save('Amount_pages.pdf', save_all=True, append_images=image_list[1:])"
   ]
  },
  {
   "cell_type": "code",
   "execution_count": 70,
   "metadata": {},
   "outputs": [],
   "source": [
    "def createbarcode(sku):\n",
    "    num_list = []\n",
    "    try:\n",
    "        for c in re.findall('[a-zA-Z]+',sku)[0]: num_list.append(str(ord(c)))\n",
    "    except:pass\n",
    "    str_to_num = \"\".join(num_list) + \"\".join(re.findall('[0-9]+',sku))\n",
    "    i = 0\n",
    "    while len(str_to_num) <13:\n",
    "        str_to_num = f\"{str_to_num}{i}\"\n",
    "        i+=1\n",
    "    code = EAN13(str_to_num,writer=ImageWriter())\n",
    "    code.save('Barcode_Copy')\n",
    "    img = Image.open('Barcode_Copy.png')\n",
    "    return [img,str_to_num]\n",
    "\n",
    "def readbarcode(num):\n",
    "    num = num[:-1]\n",
    "    while num[-1] != \"0\": num = num[:-1]\n",
    "    num = num[:-1]      #detect trash digits\n",
    "    chr_list = []\n",
    "    alpha = textwrap.wrap(num[:-4],2)\n",
    "    for c in alpha: chr_list.append(str(chr(int(c))))\n",
    "    return str(\"\".join(chr_list)+num[-4:])\n",
    "a = \"VB0411\"\n",
    "b = \"DTF1420\"\n",
    "c = \"IF0580\"\n",
    "a = \"1234\""
   ]
  },
  {
   "cell_type": "code",
   "execution_count": 71,
   "metadata": {},
   "outputs": [
    {
     "name": "stdout",
     "output_type": "stream",
     "text": [
      "1234\n",
      "1234012345678\n",
      "1234\n"
     ]
    }
   ],
   "source": [
    "print(a)\n",
    "print(createbarcode(a)[1])\n",
    "print(readbarcode(createbarcode(a)[1]))"
   ]
  },
  {
   "cell_type": "code",
   "execution_count": 66,
   "metadata": {},
   "outputs": [
    {
     "name": "stdout",
     "output_type": "stream",
     "text": [
      "7370058001234\n"
     ]
    },
    {
     "data": {
      "text/plain": [
       "'IF0580'"
      ]
     },
     "execution_count": 66,
     "metadata": {},
     "output_type": "execute_result"
    }
   ],
   "source": [
    "x = createbarcode(c)[1]\n",
    "print(x)\n",
    "readbarcode(x)s"
   ]
  },
  {
   "cell_type": "code",
   "execution_count": 44,
   "metadata": {},
   "outputs": [
    {
     "data": {
      "text/plain": [
       "'6884701420012'"
      ]
     },
     "execution_count": 44,
     "metadata": {},
     "output_type": "execute_result"
    }
   ],
   "source": [
    "createbarcode(b)[1]"
   ]
  },
  {
   "cell_type": "code",
   "execution_count": 20,
   "metadata": {},
   "outputs": [
    {
     "data": {
      "image/png": "[encoded data removed]",
      "text/plain": [
       "<PIL.PngImagePlugin.PngImageFile image mode=RGB size=523x280 at 0x1E5A10C96A0>"
      ]
     },
     "execution_count": 20,
     "metadata": {},
     "output_type": "execute_result"
    }
   ],
   "source": [
    "createbarcode(a)[0]"
   ]
  },
  {
   "cell_type": "code",
   "execution_count": 79,
   "metadata": {},
   "outputs": [
    {
     "data": {
      "text/html": [
       "<div>\n",
       "<style scoped>\n",
       "    .dataframe tbody tr th:only-of-type {\n",
       "        vertical-align: middle;\n",
       "    }\n",
       "\n",
       "    .dataframe tbody tr th {\n",
       "        vertical-align: top;\n",
       "    }\n",
       "\n",
       "    .dataframe thead th {\n",
       "        text-align: right;\n",
       "    }\n",
       "</style>\n",
       "<table border=\"1\" class=\"dataframe\">\n",
       "  <thead>\n",
       "    <tr style=\"text-align: right;\">\n",
       "      <th></th>\n",
       "      <th>Product ID</th>\n",
       "      <th>Product Name</th>\n",
       "      <th>Line Item Quantity</th>\n",
       "      <th>Product SKU</th>\n",
       "      <th>Product Categories</th>\n",
       "    </tr>\n",
       "  </thead>\n",
       "  <tbody>\n",
       "    <tr>\n",
       "      <th>73</th>\n",
       "      <td>8053</td>\n",
       "      <td>CP เลือดหมูก้อน (400 กรัม)</td>\n",
       "      <td>5</td>\n",
       "      <td>IF0540</td>\n",
       "      <td>วัตถุดิบ</td>\n",
       "    </tr>\n",
       "    <tr>\n",
       "      <th>118</th>\n",
       "      <td>8053</td>\n",
       "      <td>CP เลือดหมูก้อน (400 กรัม)</td>\n",
       "      <td>4</td>\n",
       "      <td>IF0540</td>\n",
       "      <td>วัตถุดิบ</td>\n",
       "    </tr>\n",
       "  </tbody>\n",
       "</table>\n",
       "</div>"
      ],
      "text/plain": [
       "     Product ID                Product Name  Line Item Quantity Product SKU  \\\n",
       "73         8053  CP เลือดหมูก้อน (400 กรัม)                   5      IF0540   \n",
       "118        8053  CP เลือดหมูก้อน (400 กรัม)                   4      IF0540   \n",
       "\n",
       "    Product Categories  \n",
       "73            วัตถุดิบ  \n",
       "118           วัตถุดิบ  "
      ]
     },
     "execution_count": 79,
     "metadata": {},
     "output_type": "execute_result"
    }
   ],
   "source": [
    "df.loc[df['Product SKU']==\"IF0540\"]"
   ]
  },
  {
   "cell_type": "code",
   "execution_count": 95,
   "metadata": {},
   "outputs": [
    {
     "data": {
      "text/plain": [
       "['CP เลือดหมูก้อน ', '400 กรัม)']"
      ]
     },
     "execution_count": 95,
     "metadata": {},
     "output_type": "execute_result"
    }
   ],
   "source": [
    "x = \"CP เลือดหมูก้อน (400 กรัม)\"\n",
    "x = x.split('(')\n",
    "x"
   ]
  }
 ],
 "metadata": {
  "kernelspec": {
   "display_name": "Python 3.9.7 64-bit",
   "language": "python",
   "name": "python3"
  },
  "language_info": {
   "codemirror_mode": {
    "name": "ipython",
    "version": 3
   },
   "file_extension": ".py",
   "mimetype": "text/x-python",
   "name": "python",
   "nbconvert_exporter": "python",
   "pygments_lexer": "ipython3",
   "version": "3.9.7"
  },
  "orig_nbformat": 4,
  "vscode": {
   "interpreter": {
    "hash": "cf92aa13fedf815d5c8dd192b8d835913fde3e8bc926b2a0ad6cc74ef2ba3ca2"
   }
  }
 },
 "nbformat": 4,
 "nbformat_minor": 2
}
